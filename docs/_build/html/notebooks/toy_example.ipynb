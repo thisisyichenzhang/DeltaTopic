{
 "cells": [
  {
   "attachments": {},
   "cell_type": "markdown",
   "metadata": {},
   "source": [
    "### DeltaTopic Basics"
   ]
  },
  {
   "cell_type": "code",
   "execution_count": 1,
   "metadata": {},
   "outputs": [
    {
     "name": "stdout",
     "output_type": "stream",
     "text": [
      "Requirement already satisfied: DeltaTopic in /home/BCCRC.CA/yzhang/.local/lib/python3.8/site-packages (0.0.2)\n",
      "Requirement already satisfied: scanpy==1.9.3 in /home/BCCRC.CA/yzhang/.local/lib/python3.8/site-packages (from DeltaTopic) (1.9.3)\n",
      "Requirement already satisfied: scipy==1.8.0 in /home/BCCRC.CA/yzhang/.local/lib/python3.8/site-packages (from DeltaTopic) (1.8.0)\n",
      "Requirement already satisfied: anndata==0.7.8 in /home/BCCRC.CA/yzhang/.local/share/r-miniconda/envs/DeltaTopic/lib/python3.8/site-packages (from DeltaTopic) (0.7.8)\n",
      "Requirement already satisfied: pandas==1.4.1 in /home/BCCRC.CA/yzhang/.local/share/r-miniconda/envs/DeltaTopic/lib/python3.8/site-packages (from DeltaTopic) (1.4.1)\n",
      "Requirement already satisfied: numpy==1.21.5 in /home/BCCRC.CA/yzhang/.local/share/r-miniconda/envs/DeltaTopic/lib/python3.8/site-packages (from DeltaTopic) (1.21.5)\n",
      "Requirement already satisfied: pytorch-lightning==1.9.0 in /home/BCCRC.CA/yzhang/.local/lib/python3.8/site-packages (from DeltaTopic) (1.9.0)\n",
      "Requirement already satisfied: h5py==3.6.0 in /home/BCCRC.CA/yzhang/.local/lib/python3.8/site-packages (from DeltaTopic) (3.6.0)\n",
      "Requirement already satisfied: torch==2.0.0 in /home/BCCRC.CA/yzhang/.local/lib/python3.8/site-packages (from DeltaTopic) (2.0.0)\n",
      "Requirement already satisfied: xlrd<2.0 in /home/BCCRC.CA/yzhang/.local/lib/python3.8/site-packages (from anndata==0.7.8->DeltaTopic) (1.2.0)\n",
      "Requirement already satisfied: natsort in /home/BCCRC.CA/yzhang/.local/lib/python3.8/site-packages (from anndata==0.7.8->DeltaTopic) (8.3.1)\n",
      "Requirement already satisfied: packaging>=20 in /home/BCCRC.CA/yzhang/.local/lib/python3.8/site-packages (from anndata==0.7.8->DeltaTopic) (21.3)\n",
      "Requirement already satisfied: python-dateutil>=2.8.1 in /home/BCCRC.CA/yzhang/.local/lib/python3.8/site-packages (from pandas==1.4.1->DeltaTopic) (2.8.2)\n",
      "Requirement already satisfied: pytz>=2020.1 in /home/BCCRC.CA/yzhang/.local/lib/python3.8/site-packages (from pandas==1.4.1->DeltaTopic) (2022.1)\n",
      "Requirement already satisfied: typing-extensions>=4.0.0 in /home/BCCRC.CA/yzhang/.local/lib/python3.8/site-packages (from pytorch-lightning==1.9.0->DeltaTopic) (4.1.1)\n",
      "Requirement already satisfied: PyYAML>=5.4 in /home/BCCRC.CA/yzhang/.local/lib/python3.8/site-packages (from pytorch-lightning==1.9.0->DeltaTopic) (6.0)\n",
      "Requirement already satisfied: lightning-utilities>=0.4.2 in /home/BCCRC.CA/yzhang/.local/lib/python3.8/site-packages (from pytorch-lightning==1.9.0->DeltaTopic) (0.8.0)\n",
      "Requirement already satisfied: tqdm>=4.57.0 in /home/BCCRC.CA/yzhang/.local/lib/python3.8/site-packages (from pytorch-lightning==1.9.0->DeltaTopic) (4.65.0)\n",
      "Requirement already satisfied: fsspec[http]>2021.06.0 in /home/BCCRC.CA/yzhang/.local/lib/python3.8/site-packages (from pytorch-lightning==1.9.0->DeltaTopic) (2023.4.0)\n",
      "Requirement already satisfied: torchmetrics>=0.7.0 in /home/BCCRC.CA/yzhang/.local/lib/python3.8/site-packages (from pytorch-lightning==1.9.0->DeltaTopic) (0.11.4)\n",
      "Requirement already satisfied: scikit-learn>=0.22 in /home/BCCRC.CA/yzhang/.local/lib/python3.8/site-packages (from scanpy==1.9.3->DeltaTopic) (1.2.2)\n",
      "Requirement already satisfied: networkx>=2.3 in /home/BCCRC.CA/yzhang/.local/share/r-miniconda/envs/DeltaTopic/lib/python3.8/site-packages (from scanpy==1.9.3->DeltaTopic) (3.1)\n",
      "Requirement already satisfied: numba>=0.41.0 in /home/BCCRC.CA/yzhang/.local/lib/python3.8/site-packages (from scanpy==1.9.3->DeltaTopic) (0.56.4)\n",
      "Requirement already satisfied: matplotlib>=3.4 in /home/BCCRC.CA/yzhang/.local/share/r-miniconda/envs/DeltaTopic/lib/python3.8/site-packages (from scanpy==1.9.3->DeltaTopic) (3.7.1)\n",
      "Requirement already satisfied: session-info in /home/BCCRC.CA/yzhang/.local/lib/python3.8/site-packages (from scanpy==1.9.3->DeltaTopic) (1.0.0)\n",
      "Requirement already satisfied: statsmodels>=0.10.0rc2 in /home/BCCRC.CA/yzhang/.local/share/r-miniconda/envs/DeltaTopic/lib/python3.8/site-packages (from scanpy==1.9.3->DeltaTopic) (0.14.0)\n",
      "Requirement already satisfied: joblib in /home/BCCRC.CA/yzhang/.local/lib/python3.8/site-packages (from scanpy==1.9.3->DeltaTopic) (1.2.0)\n",
      "Requirement already satisfied: seaborn in /home/BCCRC.CA/yzhang/.local/lib/python3.8/site-packages (from scanpy==1.9.3->DeltaTopic) (0.12.2)\n",
      "Requirement already satisfied: patsy in /home/BCCRC.CA/yzhang/.local/lib/python3.8/site-packages (from scanpy==1.9.3->DeltaTopic) (0.5.2)\n",
      "Requirement already satisfied: umap-learn>=0.3.10 in /home/BCCRC.CA/yzhang/.local/lib/python3.8/site-packages (from scanpy==1.9.3->DeltaTopic) (0.5.3)\n",
      "Requirement already satisfied: jinja2 in /home/BCCRC.CA/yzhang/.local/lib/python3.8/site-packages (from torch==2.0.0->DeltaTopic) (3.0.3)\n",
      "Requirement already satisfied: sympy in /home/BCCRC.CA/yzhang/.local/lib/python3.8/site-packages (from torch==2.0.0->DeltaTopic) (1.11.1)\n",
      "Requirement already satisfied: nvidia-cusolver-cu11==11.4.0.1 in /home/BCCRC.CA/yzhang/.local/lib/python3.8/site-packages (from torch==2.0.0->DeltaTopic) (11.4.0.1)\n",
      "Requirement already satisfied: nvidia-nccl-cu11==2.14.3 in /home/BCCRC.CA/yzhang/.local/lib/python3.8/site-packages (from torch==2.0.0->DeltaTopic) (2.14.3)\n",
      "Requirement already satisfied: nvidia-nvtx-cu11==11.7.91 in /home/BCCRC.CA/yzhang/.local/lib/python3.8/site-packages (from torch==2.0.0->DeltaTopic) (11.7.91)\n",
      "Requirement already satisfied: triton==2.0.0 in /home/BCCRC.CA/yzhang/.local/lib/python3.8/site-packages (from torch==2.0.0->DeltaTopic) (2.0.0)\n",
      "Requirement already satisfied: nvidia-curand-cu11==10.2.10.91 in /home/BCCRC.CA/yzhang/.local/lib/python3.8/site-packages (from torch==2.0.0->DeltaTopic) (10.2.10.91)\n",
      "Requirement already satisfied: nvidia-cudnn-cu11==8.5.0.96 in /home/BCCRC.CA/yzhang/.local/lib/python3.8/site-packages (from torch==2.0.0->DeltaTopic) (8.5.0.96)\n",
      "Requirement already satisfied: filelock in /home/BCCRC.CA/yzhang/.local/lib/python3.8/site-packages (from torch==2.0.0->DeltaTopic) (3.6.0)\n",
      "Requirement already satisfied: nvidia-cuda-runtime-cu11==11.7.99 in /home/BCCRC.CA/yzhang/.local/lib/python3.8/site-packages (from torch==2.0.0->DeltaTopic) (11.7.99)\n",
      "Requirement already satisfied: nvidia-cufft-cu11==10.9.0.58 in /home/BCCRC.CA/yzhang/.local/lib/python3.8/site-packages (from torch==2.0.0->DeltaTopic) (10.9.0.58)\n",
      "Requirement already satisfied: nvidia-cusparse-cu11==11.7.4.91 in /home/BCCRC.CA/yzhang/.local/lib/python3.8/site-packages (from torch==2.0.0->DeltaTopic) (11.7.4.91)\n",
      "Requirement already satisfied: nvidia-cublas-cu11==11.10.3.66 in /home/BCCRC.CA/yzhang/.local/lib/python3.8/site-packages (from torch==2.0.0->DeltaTopic) (11.10.3.66)\n",
      "Requirement already satisfied: nvidia-cuda-cupti-cu11==11.7.101 in /home/BCCRC.CA/yzhang/.local/lib/python3.8/site-packages (from torch==2.0.0->DeltaTopic) (11.7.101)\n",
      "Requirement already satisfied: nvidia-cuda-nvrtc-cu11==11.7.99 in /home/BCCRC.CA/yzhang/.local/lib/python3.8/site-packages (from torch==2.0.0->DeltaTopic) (11.7.99)\n",
      "Requirement already satisfied: wheel in /home/BCCRC.CA/yzhang/.local/share/r-miniconda/envs/DeltaTopic/lib/python3.8/site-packages (from nvidia-cublas-cu11==11.10.3.66->torch==2.0.0->DeltaTopic) (0.38.4)\n",
      "Requirement already satisfied: setuptools in /home/BCCRC.CA/yzhang/.local/share/r-miniconda/envs/DeltaTopic/lib/python3.8/site-packages (from nvidia-cublas-cu11==11.10.3.66->torch==2.0.0->DeltaTopic) (66.0.0)\n",
      "Requirement already satisfied: cmake in /home/BCCRC.CA/yzhang/.local/lib/python3.8/site-packages (from triton==2.0.0->torch==2.0.0->DeltaTopic) (3.26.3)\n",
      "Requirement already satisfied: lit in /home/BCCRC.CA/yzhang/.local/lib/python3.8/site-packages (from triton==2.0.0->torch==2.0.0->DeltaTopic) (16.0.2)\n",
      "Requirement already satisfied: aiohttp!=4.0.0a0,!=4.0.0a1 in /home/BCCRC.CA/yzhang/.local/lib/python3.8/site-packages (from fsspec[http]>2021.06.0->pytorch-lightning==1.9.0->DeltaTopic) (3.8.4)\n",
      "Requirement already satisfied: requests in /home/BCCRC.CA/yzhang/.local/lib/python3.8/site-packages (from fsspec[http]>2021.06.0->pytorch-lightning==1.9.0->DeltaTopic) (2.28.2)\n",
      "Requirement already satisfied: fonttools>=4.22.0 in /home/BCCRC.CA/yzhang/.local/lib/python3.8/site-packages (from matplotlib>=3.4->scanpy==1.9.3->DeltaTopic) (4.31.2)\n",
      "Requirement already satisfied: importlib-resources>=3.2.0 in /home/BCCRC.CA/yzhang/.local/lib/python3.8/site-packages (from matplotlib>=3.4->scanpy==1.9.3->DeltaTopic) (5.4.0)\n",
      "Requirement already satisfied: pyparsing>=2.3.1 in /home/BCCRC.CA/yzhang/.local/lib/python3.8/site-packages (from matplotlib>=3.4->scanpy==1.9.3->DeltaTopic) (3.0.7)\n",
      "Requirement already satisfied: cycler>=0.10 in /home/BCCRC.CA/yzhang/.local/lib/python3.8/site-packages (from matplotlib>=3.4->scanpy==1.9.3->DeltaTopic) (0.11.0)\n",
      "Requirement already satisfied: kiwisolver>=1.0.1 in /home/BCCRC.CA/yzhang/.local/lib/python3.8/site-packages (from matplotlib>=3.4->scanpy==1.9.3->DeltaTopic) (1.4.0)\n",
      "Requirement already satisfied: contourpy>=1.0.1 in /home/BCCRC.CA/yzhang/.local/share/r-miniconda/envs/DeltaTopic/lib/python3.8/site-packages (from matplotlib>=3.4->scanpy==1.9.3->DeltaTopic) (1.0.7)\n",
      "Requirement already satisfied: pillow>=6.2.0 in /home/BCCRC.CA/yzhang/.local/share/r-miniconda/envs/DeltaTopic/lib/python3.8/site-packages (from matplotlib>=3.4->scanpy==1.9.3->DeltaTopic) (9.5.0)\n",
      "Requirement already satisfied: llvmlite<0.40,>=0.39.0dev0 in /home/BCCRC.CA/yzhang/.local/lib/python3.8/site-packages (from numba>=0.41.0->scanpy==1.9.3->DeltaTopic) (0.39.1)\n",
      "Requirement already satisfied: importlib-metadata in /home/BCCRC.CA/yzhang/.local/lib/python3.8/site-packages (from numba>=0.41.0->scanpy==1.9.3->DeltaTopic) (6.3.0)\n",
      "Requirement already satisfied: six>=1.5 in /home/BCCRC.CA/yzhang/.local/share/r-miniconda/envs/DeltaTopic/lib/python3.8/site-packages (from python-dateutil>=2.8.1->pandas==1.4.1->DeltaTopic) (1.16.0)\n",
      "Requirement already satisfied: threadpoolctl>=2.0.0 in /home/BCCRC.CA/yzhang/.local/lib/python3.8/site-packages (from scikit-learn>=0.22->scanpy==1.9.3->DeltaTopic) (3.1.0)\n",
      "Requirement already satisfied: pynndescent>=0.5 in /home/BCCRC.CA/yzhang/.local/lib/python3.8/site-packages (from umap-learn>=0.3.10->scanpy==1.9.3->DeltaTopic) (0.5.10)\n",
      "Requirement already satisfied: MarkupSafe>=2.0 in /home/BCCRC.CA/yzhang/.local/lib/python3.8/site-packages (from jinja2->torch==2.0.0->DeltaTopic) (2.1.0)\n",
      "Requirement already satisfied: stdlib-list in /home/BCCRC.CA/yzhang/.local/lib/python3.8/site-packages (from session-info->scanpy==1.9.3->DeltaTopic) (0.8.0)\n",
      "Requirement already satisfied: mpmath>=0.19 in /home/BCCRC.CA/yzhang/.local/lib/python3.8/site-packages (from sympy->torch==2.0.0->DeltaTopic) (1.3.0)\n",
      "Requirement already satisfied: async-timeout<5.0,>=4.0.0a3 in /home/BCCRC.CA/yzhang/.local/lib/python3.8/site-packages (from aiohttp!=4.0.0a0,!=4.0.0a1->fsspec[http]>2021.06.0->pytorch-lightning==1.9.0->DeltaTopic) (4.0.2)\n",
      "Requirement already satisfied: attrs>=17.3.0 in /home/BCCRC.CA/yzhang/.local/lib/python3.8/site-packages (from aiohttp!=4.0.0a0,!=4.0.0a1->fsspec[http]>2021.06.0->pytorch-lightning==1.9.0->DeltaTopic) (21.4.0)\n",
      "Requirement already satisfied: aiosignal>=1.1.2 in /home/BCCRC.CA/yzhang/.local/lib/python3.8/site-packages (from aiohttp!=4.0.0a0,!=4.0.0a1->fsspec[http]>2021.06.0->pytorch-lightning==1.9.0->DeltaTopic) (1.3.1)\n",
      "Requirement already satisfied: frozenlist>=1.1.1 in /home/BCCRC.CA/yzhang/.local/lib/python3.8/site-packages (from aiohttp!=4.0.0a0,!=4.0.0a1->fsspec[http]>2021.06.0->pytorch-lightning==1.9.0->DeltaTopic) (1.3.3)\n",
      "Requirement already satisfied: charset-normalizer<4.0,>=2.0 in /home/BCCRC.CA/yzhang/.local/lib/python3.8/site-packages (from aiohttp!=4.0.0a0,!=4.0.0a1->fsspec[http]>2021.06.0->pytorch-lightning==1.9.0->DeltaTopic) (3.1.0)\n",
      "Requirement already satisfied: multidict<7.0,>=4.5 in /home/BCCRC.CA/yzhang/.local/lib/python3.8/site-packages (from aiohttp!=4.0.0a0,!=4.0.0a1->fsspec[http]>2021.06.0->pytorch-lightning==1.9.0->DeltaTopic) (6.0.4)\n",
      "Requirement already satisfied: yarl<2.0,>=1.0 in /home/BCCRC.CA/yzhang/.local/lib/python3.8/site-packages (from aiohttp!=4.0.0a0,!=4.0.0a1->fsspec[http]>2021.06.0->pytorch-lightning==1.9.0->DeltaTopic) (1.9.2)\n",
      "Requirement already satisfied: zipp>=3.1.0 in /home/BCCRC.CA/yzhang/.local/lib/python3.8/site-packages (from importlib-resources>=3.2.0->matplotlib>=3.4->scanpy==1.9.3->DeltaTopic) (3.7.0)\n",
      "Requirement already satisfied: urllib3<1.27,>=1.21.1 in /home/BCCRC.CA/yzhang/.local/lib/python3.8/site-packages (from requests->fsspec[http]>2021.06.0->pytorch-lightning==1.9.0->DeltaTopic) (1.26.15)\n",
      "Requirement already satisfied: certifi>=2017.4.17 in /home/BCCRC.CA/yzhang/.local/share/r-miniconda/envs/DeltaTopic/lib/python3.8/site-packages (from requests->fsspec[http]>2021.06.0->pytorch-lightning==1.9.0->DeltaTopic) (2022.12.7)\n",
      "Requirement already satisfied: idna<4,>=2.5 in /home/BCCRC.CA/yzhang/.local/share/r-miniconda/envs/DeltaTopic/lib/python3.8/site-packages (from requests->fsspec[http]>2021.06.0->pytorch-lightning==1.9.0->DeltaTopic) (3.4)\n"
     ]
    }
   ],
   "source": [
    "!python3 -m pip install DeltaTopic"
   ]
  },
  {
   "cell_type": "code",
   "execution_count": 2,
   "metadata": {},
   "outputs": [],
   "source": [
    "import os\n",
    "import pandas as pd\n",
    "import numpy as np\n",
    "import DeltaTopic.datasets as dt\n",
    "from DeltaTopic.nn.util import setup_anndata\n",
    "from DeltaTopic.nn.modelhub import DeltaTopic"
   ]
  },
  {
   "attachments": {},
   "cell_type": "markdown",
   "metadata": {},
   "source": [
    "#### Data Prepraration"
   ]
  },
  {
   "cell_type": "code",
   "execution_count": 3,
   "metadata": {},
   "outputs": [],
   "source": [
    "adata = dt.toy_data()\n",
    "setup_anndata(adata, layer=\"counts\", unspliced_obsm_key = \"unspliced_expression\")"
   ]
  },
  {
   "attachments": {},
   "cell_type": "markdown",
   "metadata": {},
   "source": [
    "#### Model Training"
   ]
  },
  {
   "cell_type": "code",
   "execution_count": 4,
   "metadata": {},
   "outputs": [
    {
     "name": "stderr",
     "output_type": "stream",
     "text": [
      "/home/BCCRC.CA/yzhang/.local/lib/python3.8/site-packages/pytorch_lightning/trainer/connectors/accelerator_connector.py:467: LightningDeprecationWarning: Setting `Trainer(gpus=[0])` is deprecated in v1.7 and will be removed in v2.0. Please use `Trainer(accelerator='gpu', devices=[0])` instead.\n",
      "  rank_zero_deprecation(\n",
      "GPU available: True (cuda), used: True\n",
      "TPU available: False, using: 0 TPU cores\n",
      "IPU available: False, using: 0 IPUs\n",
      "HPU available: False, using: 0 HPUs\n",
      "You are using a CUDA device ('NVIDIA GeForce RTX 3080') that has Tensor Cores. To properly utilize them, you should set `torch.set_float32_matmul_precision('medium' | 'high')` which will trade-off precision for performance. For more details, read https://pytorch.org/docs/stable/generated/torch.set_float32_matmul_precision.html#torch.set_float32_matmul_precision\n",
      "LOCAL_RANK: 0 - CUDA_VISIBLE_DEVICES: [0,1]\n",
      "\n",
      "  | Name   | Type              | Params\n",
      "---------------------------------------------\n",
      "0 | module | DeltaTopic_module | 1.6 M \n",
      "---------------------------------------------\n",
      "1.6 M     Trainable params\n",
      "4         Non-trainable params\n",
      "1.6 M     Total params\n",
      "6.380     Total estimated model params size (MB)\n"
     ]
    },
    {
     "name": "stdout",
     "output_type": "stream",
     "text": [
      "Epoch 9: 100%|██████████| 71/71 [00:01<00:00, 62.20it/s, loss=5.32e+04, v_num=1]"
     ]
    },
    {
     "name": "stderr",
     "output_type": "stream",
     "text": [
      "`Trainer.fit` stopped: `max_epochs=10` reached.\n"
     ]
    },
    {
     "name": "stdout",
     "output_type": "stream",
     "text": [
      "Epoch 9: 100%|██████████| 71/71 [00:01<00:00, 62.04it/s, loss=5.32e+04, v_num=1]\n",
      "Model saved at: ./my_model_DIR/my_model\n"
     ]
    }
   ],
   "source": [
    "model = DeltaTopic(adata, n_latent = 8)\n",
    "model.train(10)\n",
    "\n",
    "SavePATH = \"./my_model_DIR/\"\n",
    "model_id = \"my_model\"\n",
    "model.save(os.path.join(SavePATH, model_id), overwrite=True, save_anndata=False)\n",
    "print(f\"Model saved at:\", os.path.join(SavePATH, model_id))"
   ]
  },
  {
   "attachments": {},
   "cell_type": "markdown",
   "metadata": {},
   "source": [
    "#### Analysis\n",
    "##### Estimate topic proportions"
   ]
  },
  {
   "cell_type": "code",
   "execution_count": 5,
   "metadata": {},
   "outputs": [
    {
     "name": "stdout",
     "output_type": "stream",
     "text": [
      "Deterministic: True, output_softmax_z: True\n"
     ]
    },
    {
     "data": {
      "text/plain": [
       "(10000, 8)"
      ]
     },
     "execution_count": 5,
     "metadata": {},
     "output_type": "execute_result"
    }
   ],
   "source": [
    "topics_np = model.get_latent_representation() # save latent topic proportions\n",
    "pd.DataFrame(topics_np).to_csv(os.path.join('topics.csv'))\n",
    "topics_np.shape"
   ]
  },
  {
   "attachments": {},
   "cell_type": "markdown",
   "metadata": {},
   "source": [
    "##### Compute the expected weight from spike and slab parameters"
   ]
  },
  {
   "cell_type": "code",
   "execution_count": 6,
   "metadata": {},
   "outputs": [
    {
     "name": "stdout",
     "output_type": "stream",
     "text": [
      "(8, 5000)\n",
      "(8, 5000)\n"
     ]
    }
   ],
   "source": [
    "# save spike and slab parameters from the model\n",
    "model.get_parameters(save_dir = os.path.join(SavePATH, model_id)) \n",
    "\n",
    "spike_logit_rho = np.loadtxt(os.path.join(SavePATH, model_id, \"model_parameters\", \"spike_logit_rho.txt\"))\n",
    "slab_mean_rho = np.loadtxt(os.path.join(SavePATH, model_id, \"model_parameters\", \"spike_logit_rho.txt\"))\n",
    "pip_rho = 1/np.exp(-spike_logit_rho)    \n",
    "weight_rho = slab_mean_rho * pip_rho\n",
    "\n",
    "spike_logit_delta = np.loadtxt(os.path.join(SavePATH, model_id, \"model_parameters\", \"spike_logit_delta.txt\"))\n",
    "slab_mean_delta = np.loadtxt(os.path.join(SavePATH, model_id, \"model_parameters\", \"spike_logit_delta.txt\"))\n",
    "pip_delta = 1/np.exp(-spike_logit_delta)\n",
    "weight_delta = slab_mean_delta * pip_delta\n",
    "\n",
    "print(weight_rho.shape)\n",
    "print(weight_delta.shape)"
   ]
  }
 ],
 "metadata": {
  "kernelspec": {
   "display_name": "Python 3",
   "language": "python",
   "name": "python3"
  },
  "language_info": {
   "codemirror_mode": {
    "name": "ipython",
    "version": 3
   },
   "file_extension": ".py",
   "mimetype": "text/x-python",
   "name": "python",
   "nbconvert_exporter": "python",
   "pygments_lexer": "ipython3",
   "version": "3.8.16"
  }
 },
 "nbformat": 4,
 "nbformat_minor": 2
}
